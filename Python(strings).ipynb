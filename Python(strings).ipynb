{
  "nbformat": 4,
  "nbformat_minor": 0,
  "metadata": {
    "colab": {
      "provenance": [],
      "authorship_tag": "ABX9TyOkUnrgzbfierWGP4yzvBPD",
      "include_colab_link": true
    },
    "kernelspec": {
      "name": "python3",
      "display_name": "Python 3"
    },
    "language_info": {
      "name": "python"
    }
  },
  "cells": [
    {
      "cell_type": "markdown",
      "metadata": {
        "id": "view-in-github",
        "colab_type": "text"
      },
      "source": [
        "<a href=\"https://colab.research.google.com/github/Tasneem-Ibrahim/learn-cloud-native-modern-python/blob/main/Python(strings).ipynb\" target=\"_parent\"><img src=\"https://colab.research.google.com/assets/colab-badge.svg\" alt=\"Open In Colab\"/></a>"
      ]
    },
    {
      "cell_type": "markdown",
      "source": [
        "# **Python Basics**\n"
      ],
      "metadata": {
        "id": "ceec5D0sJjSK"
      }
    },
    {
      "cell_type": "markdown",
      "source": [
        "# **Python String**\n",
        "A Python string is a sequence of characters used to store and manipulate text data. In Python, strings are enclosed in quotes (' ', \" \", ''' ''', or \"\"\" \"\"\") and can include letters, digits, punctuation, and special characters.\n",
        "\n",
        "### Example:\n",
        "\"Hello, World!\" is a string in Python.\n",
        "\n",
        "# **Python String Methods**\n",
        "Python string methods are built-in functions that operate on string objects, allowing you to perform various text manipulation tasks. These methods can modify, query, or perform operations on strings, often returning a new string without altering the original one.\n",
        "\n",
        "### Example:\n",
        " Methods like capitalize(), lower(), find(), and replace() are used to manipulate and query strings."
      ],
      "metadata": {
        "id": "_Oexbse-JW63"
      }
    },
    {
      "cell_type": "markdown",
      "source": [],
      "metadata": {
        "id": "k9o6HdhG-l_Z"
      }
    },
    {
      "cell_type": "markdown",
      "source": [
        "## **Python String Methods**"
      ],
      "metadata": {
        "id": "DeTwoFJr-fEH"
      }
    },
    {
      "cell_type": "markdown",
      "source": [
        "## capitalize()\n",
        "Converts the first character of a string to uppercase, while the rest remain lowercase."
      ],
      "metadata": {
        "id": "4_QjnjtuJoLs"
      }
    },
    {
      "cell_type": "code",
      "source": [
        "# Capitalize the first letter of the string\n",
        "\"hello world\".capitalize()\n"
      ],
      "metadata": {
        "colab": {
          "base_uri": "https://localhost:8080/",
          "height": 35
        },
        "id": "zBD9sjRgJu_g",
        "outputId": "dc0ffeb1-2b79-4573-8a51-fb7a57ef42cf"
      },
      "execution_count": null,
      "outputs": [
        {
          "output_type": "execute_result",
          "data": {
            "text/plain": [
              "'Hello world'"
            ],
            "application/vnd.google.colaboratory.intrinsic+json": {
              "type": "string"
            }
          },
          "metadata": {},
          "execution_count": 4
        }
      ]
    },
    {
      "cell_type": "markdown",
      "source": [
        "## casefold()\n",
        "Converts all characters in a string to lowercase, using more aggressive conversion rules."
      ],
      "metadata": {
        "id": "57ys4z5AJ2yz"
      }
    },
    {
      "cell_type": "code",
      "source": [
        "# Casefold the string for case-insensitive comparisons\n",
        "\"Hello World\".casefold()\n"
      ],
      "metadata": {
        "colab": {
          "base_uri": "https://localhost:8080/",
          "height": 35
        },
        "id": "FmZlS0eDJ7V2",
        "outputId": "7790917e-d195-491f-f814-aed93b481a13"
      },
      "execution_count": null,
      "outputs": [
        {
          "output_type": "execute_result",
          "data": {
            "text/plain": [
              "'hello world'"
            ],
            "application/vnd.google.colaboratory.intrinsic+json": {
              "type": "string"
            }
          },
          "metadata": {},
          "execution_count": 5
        }
      ]
    },
    {
      "cell_type": "markdown",
      "source": [
        "## center()\n",
        "Centers a string within a specified width, padding it with spaces or a specified character."
      ],
      "metadata": {
        "id": "DbdWQamvJ_Mo"
      }
    },
    {
      "cell_type": "code",
      "source": [
        "# Center the string within a width of 20\n",
        "\"hello\".center(20, '-')\n"
      ],
      "metadata": {
        "colab": {
          "base_uri": "https://localhost:8080/",
          "height": 35
        },
        "id": "lJn2W9wjKD_6",
        "outputId": "394313e2-cb47-4efa-ef01-25f27d57714a"
      },
      "execution_count": null,
      "outputs": [
        {
          "output_type": "execute_result",
          "data": {
            "text/plain": [
              "'-------hello--------'"
            ],
            "application/vnd.google.colaboratory.intrinsic+json": {
              "type": "string"
            }
          },
          "metadata": {},
          "execution_count": 22
        }
      ]
    },
    {
      "cell_type": "markdown",
      "source": [
        "## count()\n",
        "Counts the number of occurrences of a substring within a string."
      ],
      "metadata": {
        "id": "RC3QjdY1KMCq"
      }
    },
    {
      "cell_type": "code",
      "source": [
        "# Count occurrences of 'l' in the string\n",
        "\"hello\".count('l')\n"
      ],
      "metadata": {
        "colab": {
          "base_uri": "https://localhost:8080/"
        },
        "id": "FvkH_WD1KPxl",
        "outputId": "7f855d3b-dbf7-4ad2-dcc7-729fca0ee5b3"
      },
      "execution_count": null,
      "outputs": [
        {
          "output_type": "execute_result",
          "data": {
            "text/plain": [
              "2"
            ]
          },
          "metadata": {},
          "execution_count": 7
        }
      ]
    },
    {
      "cell_type": "markdown",
      "source": [
        "## encode()\n",
        "Encodes the string using the specified encoding scheme, returning a bytes object."
      ],
      "metadata": {
        "id": "FjkVkbYwKdnq"
      }
    },
    {
      "cell_type": "code",
      "source": [
        "# Encode the string in UTF-8\n",
        "# \"hello\".encode('utf-8') converts the string \"hello\" into a bytes object, using UTF-8 encoding.\n",
        "\n",
        "\"hello\".encode('utf-8')\n"
      ],
      "metadata": {
        "colab": {
          "base_uri": "https://localhost:8080/"
        },
        "id": "fG0nThY7Khc3",
        "outputId": "69f1f62b-f36b-4821-8e15-07675ee94bc9"
      },
      "execution_count": null,
      "outputs": [
        {
          "output_type": "execute_result",
          "data": {
            "text/plain": [
              "b'hello'"
            ]
          },
          "metadata": {},
          "execution_count": 8
        }
      ]
    },
    {
      "cell_type": "markdown",
      "source": [
        "## endswith()\n",
        "Checks if a string ends with the specified suffix, returning True or False."
      ],
      "metadata": {
        "id": "8gFMnLscKokN"
      }
    },
    {
      "cell_type": "code",
      "source": [
        "# Check if the string ends with 'world'\n",
        "\"hello world\".endswith('world')\n"
      ],
      "metadata": {
        "colab": {
          "base_uri": "https://localhost:8080/"
        },
        "id": "aGhIttf5Ksm2",
        "outputId": "6251e048-3984-44d5-81a0-b5474867959d"
      },
      "execution_count": null,
      "outputs": [
        {
          "output_type": "execute_result",
          "data": {
            "text/plain": [
              "True"
            ]
          },
          "metadata": {},
          "execution_count": 9
        }
      ]
    },
    {
      "cell_type": "markdown",
      "source": [
        "## expandtabs()\n",
        "Replaces all tab characters in a string with spaces, using a default or specified tab size."
      ],
      "metadata": {
        "id": "DJKFXM6FKyL8"
      }
    },
    {
      "cell_type": "code",
      "source": [
        "# Expand tabs in the string with a tab size of 4\n",
        "\"hello\\tworld\".expandtabs(4)\n"
      ],
      "metadata": {
        "colab": {
          "base_uri": "https://localhost:8080/",
          "height": 35
        },
        "id": "5THduVA3K0HV",
        "outputId": "5fc29ab4-66b9-43c2-f6ac-84e536715228"
      },
      "execution_count": null,
      "outputs": [
        {
          "output_type": "execute_result",
          "data": {
            "text/plain": [
              "'hello   world'"
            ],
            "application/vnd.google.colaboratory.intrinsic+json": {
              "type": "string"
            }
          },
          "metadata": {},
          "execution_count": 10
        }
      ]
    },
    {
      "cell_type": "markdown",
      "source": [
        "## find()\n",
        "Returns the lowest index of a substring within a string, or -1 if not found."
      ],
      "metadata": {
        "id": "1bWuJ6QVK4ep"
      }
    },
    {
      "cell_type": "code",
      "source": [
        "# Find the index of 'l' in the string\n",
        "\"hello\".find('l')\n"
      ],
      "metadata": {
        "colab": {
          "base_uri": "https://localhost:8080/"
        },
        "id": "19zz48oAK8iY",
        "outputId": "ddea4bf8-c4fd-4ea5-8e6c-aac5519b848d"
      },
      "execution_count": null,
      "outputs": [
        {
          "output_type": "execute_result",
          "data": {
            "text/plain": [
              "2"
            ]
          },
          "metadata": {},
          "execution_count": 11
        }
      ]
    },
    {
      "cell_type": "markdown",
      "source": [
        "## format()\n",
        "\n",
        "Formats a string using placeholders {}, allowing for dynamic value insertion."
      ],
      "metadata": {
        "id": "Mt0VrRjsLC7c"
      }
    },
    {
      "cell_type": "code",
      "source": [
        "# Format the string with dynamic values\n",
        "\"Hello, {}\".format(\"World\")\n"
      ],
      "metadata": {
        "colab": {
          "base_uri": "https://localhost:8080/",
          "height": 35
        },
        "id": "OqmRTmXsLGZy",
        "outputId": "a3f0b5c4-70e3-4b8a-89d0-f0bf42a5c065"
      },
      "execution_count": null,
      "outputs": [
        {
          "output_type": "execute_result",
          "data": {
            "text/plain": [
              "'Hello, World'"
            ],
            "application/vnd.google.colaboratory.intrinsic+json": {
              "type": "string"
            }
          },
          "metadata": {},
          "execution_count": 12
        }
      ]
    },
    {
      "cell_type": "markdown",
      "source": [
        "## index()\n",
        "Returns the lowest index of a substring within a string, raising an error if the substring is not found."
      ],
      "metadata": {
        "id": "Y5t_4V36LS8Q"
      }
    },
    {
      "cell_type": "code",
      "source": [
        "# Find the index of 'l' in the string\n",
        "\"hello\".index('l')\n"
      ],
      "metadata": {
        "colab": {
          "base_uri": "https://localhost:8080/"
        },
        "id": "aTbSb73uLU10",
        "outputId": "bd204268-060e-4e50-9135-7cc1bc069b45"
      },
      "execution_count": null,
      "outputs": [
        {
          "output_type": "execute_result",
          "data": {
            "text/plain": [
              "2"
            ]
          },
          "metadata": {},
          "execution_count": 13
        }
      ]
    },
    {
      "cell_type": "markdown",
      "source": [
        "## isalnum()\n",
        "Checks if all characters in a string are alphanumeric (letters and numbers)."
      ],
      "metadata": {
        "id": "qpX26fXPLcSl"
      }
    },
    {
      "cell_type": "code",
      "source": [
        "# Check if the string is alphanumeric\n",
        "\"Hello123\".isalnum()\n"
      ],
      "metadata": {
        "colab": {
          "base_uri": "https://localhost:8080/"
        },
        "id": "WWwRUtfeLdcO",
        "outputId": "65a03a6b-7a5b-4bc4-81d7-00304e39f9bc"
      },
      "execution_count": null,
      "outputs": [
        {
          "output_type": "execute_result",
          "data": {
            "text/plain": [
              "True"
            ]
          },
          "metadata": {},
          "execution_count": 14
        }
      ]
    },
    {
      "cell_type": "markdown",
      "source": [
        "## isalpha()\n",
        "Checks if all characters in a string are alphabetic."
      ],
      "metadata": {
        "id": "BRjlUT_7Lkyo"
      }
    },
    {
      "cell_type": "code",
      "source": [
        "# Check if the string is alphabetic\n",
        "\"Hello\".isalpha()\n"
      ],
      "metadata": {
        "colab": {
          "base_uri": "https://localhost:8080/"
        },
        "id": "xCfyDRuOLral",
        "outputId": "3fe558b2-83cc-4056-a178-0d609e2ca37c"
      },
      "execution_count": null,
      "outputs": [
        {
          "output_type": "execute_result",
          "data": {
            "text/plain": [
              "True"
            ]
          },
          "metadata": {},
          "execution_count": 15
        }
      ]
    },
    {
      "cell_type": "markdown",
      "source": [
        "## isascii()\n",
        "Description: Checks if all characters in the string are ASCII characters."
      ],
      "metadata": {
        "id": "wnpR0rdrUeoF"
      }
    },
    {
      "cell_type": "code",
      "source": [
        "# Check if the string contains only ASCII characters\n",
        "text = \"Hello\"\n",
        "print(text.isascii())\n"
      ],
      "metadata": {
        "colab": {
          "base_uri": "https://localhost:8080/"
        },
        "id": "lbvdTuICUf-z",
        "outputId": "c7e9cf21-a003-413c-c3c1-738517b5a605"
      },
      "execution_count": null,
      "outputs": [
        {
          "output_type": "stream",
          "name": "stdout",
          "text": [
            "True\n"
          ]
        }
      ]
    },
    {
      "cell_type": "markdown",
      "source": [
        "## isdecimal()\n",
        "Description: Checks if all characters in the string are decimal characters."
      ],
      "metadata": {
        "id": "62MxLjQ6Uk-l"
      }
    },
    {
      "cell_type": "code",
      "source": [
        "# Check if the string is decimal\n",
        "text = \"12345\"\n",
        "print(text.isdecimal())\n"
      ],
      "metadata": {
        "colab": {
          "base_uri": "https://localhost:8080/"
        },
        "id": "5FsFPmJ4UmWI",
        "outputId": "2aa27d39-77b2-4de8-beab-862677d4c72b"
      },
      "execution_count": null,
      "outputs": [
        {
          "output_type": "stream",
          "name": "stdout",
          "text": [
            "True\n"
          ]
        }
      ]
    },
    {
      "cell_type": "markdown",
      "source": [
        "## isdigit()\n",
        "Checks if all characters in a string are digits."
      ],
      "metadata": {
        "id": "KL1gULO2LuX8"
      }
    },
    {
      "cell_type": "code",
      "source": [
        "# Check if the string is numeric\n",
        "\"12345\".isdigit()\n"
      ],
      "metadata": {
        "colab": {
          "base_uri": "https://localhost:8080/"
        },
        "id": "_pQcSoPRLxxD",
        "outputId": "83467d59-73be-487f-a852-9369218f5c7b"
      },
      "execution_count": null,
      "outputs": [
        {
          "output_type": "execute_result",
          "data": {
            "text/plain": [
              "True"
            ]
          },
          "metadata": {},
          "execution_count": 16
        }
      ]
    },
    {
      "cell_type": "markdown",
      "source": [
        "## isidentifier()\n",
        "Checks if the string is a valid Python identifier."
      ],
      "metadata": {
        "id": "Steo-S1VUvER"
      }
    },
    {
      "cell_type": "code",
      "source": [
        "# Check if the string is a valid identifier\n",
        "text = \"variable_name\"\n",
        "print(text.isidentifier())\n"
      ],
      "metadata": {
        "colab": {
          "base_uri": "https://localhost:8080/"
        },
        "id": "aT4aJHFtUwhE",
        "outputId": "91c294f7-7ce4-4c00-cff3-3c7063eef2ad"
      },
      "execution_count": null,
      "outputs": [
        {
          "output_type": "stream",
          "name": "stdout",
          "text": [
            "True\n"
          ]
        }
      ]
    },
    {
      "cell_type": "markdown",
      "source": [
        "## islower()\n",
        "Checks if all characters in the string are lowercase."
      ],
      "metadata": {
        "id": "VJucypy8U1JN"
      }
    },
    {
      "cell_type": "code",
      "source": [
        "# Check if the string is in lowercase\n",
        "text = \"hello\"\n",
        "print(text.islower())\n"
      ],
      "metadata": {
        "colab": {
          "base_uri": "https://localhost:8080/"
        },
        "id": "cemKy26eU2ZB",
        "outputId": "97d9f641-ebaf-4cfb-cf11-497139125e07"
      },
      "execution_count": null,
      "outputs": [
        {
          "output_type": "stream",
          "name": "stdout",
          "text": [
            "True\n"
          ]
        }
      ]
    },
    {
      "cell_type": "markdown",
      "source": [
        "## isnumeric()\n",
        "Checks if all characters in the string are numeric."
      ],
      "metadata": {
        "id": "fA7J7FQdU7fZ"
      }
    },
    {
      "cell_type": "code",
      "source": [
        "# Check if the string is numeric\n",
        "text = \"12345\"\n",
        "print(text.isnumeric())\n"
      ],
      "metadata": {
        "colab": {
          "base_uri": "https://localhost:8080/"
        },
        "id": "_ekVVFamU9NJ",
        "outputId": "8b47baa5-317a-426a-be57-5e5847be7854"
      },
      "execution_count": null,
      "outputs": [
        {
          "output_type": "stream",
          "name": "stdout",
          "text": [
            "True\n"
          ]
        }
      ]
    },
    {
      "cell_type": "markdown",
      "source": [
        "## isprintable()\n",
        "Checks if all characters in the string are printable or if the string is empty."
      ],
      "metadata": {
        "id": "p-8Tx9WTVE9b"
      }
    },
    {
      "cell_type": "code",
      "source": [
        "# Check if the string is printable\n",
        "text = \"Hello\"\n",
        "print(text.isprintable())\n"
      ],
      "metadata": {
        "colab": {
          "base_uri": "https://localhost:8080/"
        },
        "id": "8gCGQh__VHIy",
        "outputId": "5324df8d-f1b6-4045-ffb2-354549419352"
      },
      "execution_count": null,
      "outputs": [
        {
          "output_type": "stream",
          "name": "stdout",
          "text": [
            "True\n"
          ]
        }
      ]
    },
    {
      "cell_type": "markdown",
      "source": [
        "## isspace()\n",
        " Checks if all characters in the string are whitespace characters."
      ],
      "metadata": {
        "id": "PmUjL7UtVMRU"
      }
    },
    {
      "cell_type": "code",
      "source": [
        "# Check if the string contains only whitespace\n",
        "text = \"   \"\n",
        "print(text.isspace())\n"
      ],
      "metadata": {
        "colab": {
          "base_uri": "https://localhost:8080/"
        },
        "id": "dfbVY3neVNnZ",
        "outputId": "f593a090-ab97-4003-f016-11ce8e668e1b"
      },
      "execution_count": null,
      "outputs": [
        {
          "output_type": "stream",
          "name": "stdout",
          "text": [
            "True\n"
          ]
        }
      ]
    },
    {
      "cell_type": "markdown",
      "source": [
        "## istitle()\n",
        "Checks if the string is title-cased (each word starts with an uppercase letter followed by lowercase)."
      ],
      "metadata": {
        "id": "PQ7iUuPBVVls"
      }
    },
    {
      "cell_type": "code",
      "source": [
        "# Check if the string is title-cased\n",
        "text = \"Hello World\"\n",
        "print(text.istitle())\n"
      ],
      "metadata": {
        "colab": {
          "base_uri": "https://localhost:8080/"
        },
        "id": "i6yRspHRVX1q",
        "outputId": "c61ca641-4972-478f-d4ac-96bfb93b5895"
      },
      "execution_count": null,
      "outputs": [
        {
          "output_type": "stream",
          "name": "stdout",
          "text": [
            "True\n"
          ]
        }
      ]
    },
    {
      "cell_type": "markdown",
      "source": [
        "## isupper()\n",
        "Checks if all characters in the string are uppercase."
      ],
      "metadata": {
        "id": "KMkT4_DhVfh-"
      }
    },
    {
      "cell_type": "code",
      "source": [
        "# Check if the string is in uppercase\n",
        "text = \"HELLO\"\n",
        "print(text.isupper())\n"
      ],
      "metadata": {
        "colab": {
          "base_uri": "https://localhost:8080/"
        },
        "id": "j8Fuq3c6VhvB",
        "outputId": "bd6ef303-37dc-4e9f-baa9-fbc4b13dead6"
      },
      "execution_count": null,
      "outputs": [
        {
          "output_type": "stream",
          "name": "stdout",
          "text": [
            "True\n"
          ]
        }
      ]
    },
    {
      "cell_type": "markdown",
      "source": [
        "## join()\n",
        "Joins an iterable (e.g., list) of strings into a single string, separated by the original string."
      ],
      "metadata": {
        "id": "DrnItFJXL282"
      }
    },
    {
      "cell_type": "code",
      "source": [
        "# Join a list of strings with a hyphen\n",
        "\"-\".join([\"Hello\", \"World\"])\n"
      ],
      "metadata": {
        "colab": {
          "base_uri": "https://localhost:8080/",
          "height": 35
        },
        "id": "q5VyHUfVL4Yc",
        "outputId": "9258c4e8-75dc-434f-816f-c7528f33a1cb"
      },
      "execution_count": null,
      "outputs": [
        {
          "output_type": "execute_result",
          "data": {
            "text/plain": [
              "'Hello-World'"
            ],
            "application/vnd.google.colaboratory.intrinsic+json": {
              "type": "string"
            }
          },
          "metadata": {},
          "execution_count": 17
        }
      ]
    },
    {
      "cell_type": "markdown",
      "source": [
        "## ljust()\n",
        "Left-justifies the string within a specified width, padding with spaces or a specified character."
      ],
      "metadata": {
        "id": "uVFk-QFyxwlG"
      }
    },
    {
      "cell_type": "code",
      "source": [
        "# Left-justify the string within a width of 20\n",
        "text = \"hello\"\n",
        "print(text.ljust(20, '-'))\n"
      ],
      "metadata": {
        "colab": {
          "base_uri": "https://localhost:8080/"
        },
        "id": "xaY4soSax55f",
        "outputId": "04de5b19-c94a-4d2b-a20a-f3032dba9b6c"
      },
      "execution_count": null,
      "outputs": [
        {
          "output_type": "stream",
          "name": "stdout",
          "text": [
            "hello---------------\n"
          ]
        }
      ]
    },
    {
      "cell_type": "markdown",
      "source": [
        "## lower()\n",
        "Converts all characters in the string to lowercase."
      ],
      "metadata": {
        "id": "xt8NS8vsyEL_"
      }
    },
    {
      "cell_type": "code",
      "source": [
        "# Convert the string to lowercase\n",
        "text = \"HELLO\"\n",
        "print(text.lower())\n"
      ],
      "metadata": {
        "colab": {
          "base_uri": "https://localhost:8080/"
        },
        "id": "wGyC8aQKyJ0J",
        "outputId": "39eb4ce3-3b89-4f32-9b07-0a11f6cde632"
      },
      "execution_count": null,
      "outputs": [
        {
          "output_type": "stream",
          "name": "stdout",
          "text": [
            "hello\n"
          ]
        }
      ]
    },
    {
      "cell_type": "markdown",
      "source": [
        "## lstrip()\n",
        "Removes leading whitespace (or specified characters) from the string."
      ],
      "metadata": {
        "id": "8U7tKXUxxwuT"
      }
    },
    {
      "cell_type": "code",
      "source": [
        "# Remove leading spaces from the string\n",
        "text = \"   hello\"\n",
        "print(text.lstrip())\n"
      ],
      "metadata": {
        "colab": {
          "base_uri": "https://localhost:8080/"
        },
        "id": "BqXPmNixySPI",
        "outputId": "59480066-2225-4e5d-8b13-4b801d086721"
      },
      "execution_count": null,
      "outputs": [
        {
          "output_type": "stream",
          "name": "stdout",
          "text": [
            "hello\n"
          ]
        }
      ]
    },
    {
      "cell_type": "markdown",
      "source": [
        "## maketrans()\n",
        "Returns a translation table to be used with the translate() method."
      ],
      "metadata": {
        "id": "C83pds3cyW7I"
      }
    },
    {
      "cell_type": "code",
      "source": [
        "# Create a translation table to replace 'a' with '1' and 'b' with '2'\n",
        "trans = str.maketrans('ab', '12')\n",
        "print(\"abc\".translate(trans))\n"
      ],
      "metadata": {
        "colab": {
          "base_uri": "https://localhost:8080/"
        },
        "id": "rORa9yEiydc8",
        "outputId": "ecf0aea6-87ca-4763-b720-610fc478cd8f"
      },
      "execution_count": null,
      "outputs": [
        {
          "output_type": "stream",
          "name": "stdout",
          "text": [
            "12c\n"
          ]
        }
      ]
    },
    {
      "cell_type": "markdown",
      "source": [
        "## partition()\n",
        " Splits the string into a tuple of three parts: the part before the separator, the separator itself, and the part after."
      ],
      "metadata": {
        "id": "U46kb5UkyiQ8"
      }
    },
    {
      "cell_type": "code",
      "source": [
        "# Partition the string around 'world'\n",
        "text = \"hello world example\"\n",
        "print(text.partition('world'))\n"
      ],
      "metadata": {
        "colab": {
          "base_uri": "https://localhost:8080/"
        },
        "id": "nAXI_3OOyltn",
        "outputId": "1bdc77b2-48bd-44f6-9e42-90f0732cc1bb"
      },
      "execution_count": null,
      "outputs": [
        {
          "output_type": "stream",
          "name": "stdout",
          "text": [
            "('hello ', 'world', ' example')\n"
          ]
        }
      ]
    },
    {
      "cell_type": "markdown",
      "source": [
        "## removeprefix()\n",
        " Removes the specified prefix from the string, if it starts with that prefix."
      ],
      "metadata": {
        "id": "t-Jm2_SIy6RL"
      }
    },
    {
      "cell_type": "code",
      "source": [
        "# Remove the prefix 'Hello ' from the string\n",
        "text = \"Hello World\"\n",
        "print(text.removeprefix('Hello '))\n"
      ],
      "metadata": {
        "colab": {
          "base_uri": "https://localhost:8080/"
        },
        "id": "kIs9wiIcy-h_",
        "outputId": "57b503ea-5992-47cc-cd3f-0e9974c98f46"
      },
      "execution_count": null,
      "outputs": [
        {
          "output_type": "stream",
          "name": "stdout",
          "text": [
            "World\n"
          ]
        }
      ]
    },
    {
      "cell_type": "markdown",
      "source": [
        "## removesuffix()\n",
        "Removes the specified suffix from the string, if it ends with that suffix."
      ],
      "metadata": {
        "id": "O5ajZbGmzDbp"
      }
    },
    {
      "cell_type": "code",
      "source": [
        "# Remove the suffix ' World' from the string\n",
        "text = \"Hello World\"\n",
        "print(text.removesuffix(' World'))\n"
      ],
      "metadata": {
        "colab": {
          "base_uri": "https://localhost:8080/"
        },
        "id": "cfoyLAOAzFki",
        "outputId": "013a9f5e-4a61-47da-a4c7-ac1486cb6144"
      },
      "execution_count": null,
      "outputs": [
        {
          "output_type": "stream",
          "name": "stdout",
          "text": [
            "Hello\n"
          ]
        }
      ]
    },
    {
      "cell_type": "markdown",
      "source": [
        "## replace()\n",
        " Replaces all occurrences of a substring with another substring."
      ],
      "metadata": {
        "id": "LZLW3RSZzL9d"
      }
    },
    {
      "cell_type": "code",
      "source": [
        "# Replace 'l' with 'x' in the string\n",
        "text = \"hello\"\n",
        "print(text.replace('l', 'x'))\n"
      ],
      "metadata": {
        "colab": {
          "base_uri": "https://localhost:8080/"
        },
        "id": "_OO8vGcrzPLN",
        "outputId": "00693736-ddb0-4c70-aba2-f3ab2c089a24"
      },
      "execution_count": null,
      "outputs": [
        {
          "output_type": "stream",
          "name": "stdout",
          "text": [
            "hexxo\n"
          ]
        }
      ]
    },
    {
      "cell_type": "markdown",
      "source": [
        "## rfind()\n",
        "Description: Returns the highest index of a substring within the string, or -1 if not found."
      ],
      "metadata": {
        "id": "fZ_W_MyezU74"
      }
    },
    {
      "cell_type": "code",
      "source": [
        "# Find the highest index of 'l' in the string\n",
        "text = \"hello world\"\n",
        "print(text.rfind('l'))\n"
      ],
      "metadata": {
        "colab": {
          "base_uri": "https://localhost:8080/"
        },
        "id": "N8z9bcYFzWeJ",
        "outputId": "5f31cbd1-a315-41a2-eb21-a98e1edd0b54"
      },
      "execution_count": null,
      "outputs": [
        {
          "output_type": "stream",
          "name": "stdout",
          "text": [
            "9\n"
          ]
        }
      ]
    },
    {
      "cell_type": "markdown",
      "source": [
        "## rindex()\n",
        " Similar to rfind(), but raises a ValueError if the substring is not found."
      ],
      "metadata": {
        "id": "WuTPqJWIzaiz"
      }
    },
    {
      "cell_type": "code",
      "source": [
        "# Find the highest index of 'l' in the string\n",
        "text = \"hello world\"\n",
        "print(text.rindex('l'))\n"
      ],
      "metadata": {
        "colab": {
          "base_uri": "https://localhost:8080/"
        },
        "id": "O-N0dEYLze80",
        "outputId": "8539ac33-226b-4a98-c914-e883810e2a81"
      },
      "execution_count": null,
      "outputs": [
        {
          "output_type": "stream",
          "name": "stdout",
          "text": [
            "9\n"
          ]
        }
      ]
    },
    {
      "cell_type": "markdown",
      "source": [
        "## rjust()\n",
        " Right-justifies the string within a specified width, padding with spaces or a specified character."
      ],
      "metadata": {
        "id": "8RpEgMjCznDh"
      }
    },
    {
      "cell_type": "code",
      "source": [
        "# Right-justify the string within a width of 20\n",
        "text = \"hello\"\n",
        "print(text.rjust(20, '-'))\n"
      ],
      "metadata": {
        "colab": {
          "base_uri": "https://localhost:8080/"
        },
        "id": "Wm67XkEKzqz2",
        "outputId": "414a2b9b-b201-4981-caf9-cdba0d891578"
      },
      "execution_count": null,
      "outputs": [
        {
          "output_type": "stream",
          "name": "stdout",
          "text": [
            "---------------hello\n"
          ]
        }
      ]
    },
    {
      "cell_type": "markdown",
      "source": [
        "## rpartition()\n",
        " Splits the string into a tuple of three parts: the part before the last occurrence of the separator, the separator itself, and the part after."
      ],
      "metadata": {
        "id": "SfAzBtcP0XA1"
      }
    },
    {
      "cell_type": "code",
      "source": [
        "# Partition the string around the last occurrence of ' '\n",
        "text = \"hello world example\"\n",
        "print(text.rpartition(' '))\n"
      ],
      "metadata": {
        "colab": {
          "base_uri": "https://localhost:8080/"
        },
        "id": "5kTW0y8H0drV",
        "outputId": "b704d1d0-c3d9-4daa-8b36-65be2928a45d"
      },
      "execution_count": null,
      "outputs": [
        {
          "output_type": "stream",
          "name": "stdout",
          "text": [
            "('hello world', ' ', 'example')\n"
          ]
        }
      ]
    },
    {
      "cell_type": "markdown",
      "source": [
        "## rsplit()\n",
        " Splits the string into a list of substrings from the right, based on a specified delimiter."
      ],
      "metadata": {
        "id": "dgWFQwgF0h06"
      }
    },
    {
      "cell_type": "code",
      "source": [
        "# Split the string by spaces from the right\n",
        "text = \"hello world example\"\n",
        "print(text.rsplit(' ', 1))\n"
      ],
      "metadata": {
        "colab": {
          "base_uri": "https://localhost:8080/"
        },
        "id": "ezbugA-b1Mnh",
        "outputId": "280d86bc-a61a-4003-aa77-9405f31071d3"
      },
      "execution_count": null,
      "outputs": [
        {
          "output_type": "stream",
          "name": "stdout",
          "text": [
            "['hello world', 'example']\n"
          ]
        }
      ]
    },
    {
      "cell_type": "markdown",
      "source": [
        "## rstrip()\n",
        " Removes trailing whitespace (or specified characters) from the string."
      ],
      "metadata": {
        "id": "F2K6b4ef1RGX"
      }
    },
    {
      "cell_type": "code",
      "source": [
        "# Remove trailing spaces from the string\n",
        "text = \"hello   \"\n",
        "print(text.rstrip())\n"
      ],
      "metadata": {
        "colab": {
          "base_uri": "https://localhost:8080/"
        },
        "id": "ADNibXUA1Vw-",
        "outputId": "5a714aa8-3e6f-4bad-b678-8337eee20e8d"
      },
      "execution_count": null,
      "outputs": [
        {
          "output_type": "stream",
          "name": "stdout",
          "text": [
            "hello\n"
          ]
        }
      ]
    },
    {
      "cell_type": "markdown",
      "source": [
        "## split()\n",
        "Splits a string into a list of substrings based on a specified delimiter."
      ],
      "metadata": {
        "id": "MeqMk-L9MLd-"
      }
    },
    {
      "cell_type": "code",
      "source": [
        "# Split the string by spaces\n",
        "\"Hello World\".split(' ')\n"
      ],
      "metadata": {
        "colab": {
          "base_uri": "https://localhost:8080/"
        },
        "id": "V6mFos9AMM6Z",
        "outputId": "4f93d007-d8d8-4907-f197-7cac75b8d14b"
      },
      "execution_count": null,
      "outputs": [
        {
          "output_type": "execute_result",
          "data": {
            "text/plain": [
              "['Hello', 'World']"
            ]
          },
          "metadata": {},
          "execution_count": 15
        }
      ]
    },
    {
      "cell_type": "markdown",
      "source": [
        "## splitlines()\n",
        " Splits the string into a list of lines, breaking at line boundaries."
      ],
      "metadata": {
        "id": "YklXwk7h1u_t"
      }
    },
    {
      "cell_type": "code",
      "source": [
        "# Split the string into lines\n",
        "text = \"hello\\nworld\\nexample\"\n",
        "print(text.splitlines())\n"
      ],
      "metadata": {
        "colab": {
          "base_uri": "https://localhost:8080/"
        },
        "id": "DtHpYV7C1yDX",
        "outputId": "d4412487-8e01-45d9-a078-572a85a4173b"
      },
      "execution_count": null,
      "outputs": [
        {
          "output_type": "stream",
          "name": "stdout",
          "text": [
            "['hello', 'world', 'example']\n"
          ]
        }
      ]
    },
    {
      "cell_type": "markdown",
      "source": [
        "## startswith()\n",
        " Checks if the string starts with the specified prefix, returning True or False."
      ],
      "metadata": {
        "id": "TQ0M7E601vJk"
      }
    },
    {
      "cell_type": "code",
      "source": [
        "# Check if the string starts with 'hello'\n",
        "text = \"hello world\"\n",
        "print(text.startswith('hello'))\n"
      ],
      "metadata": {
        "colab": {
          "base_uri": "https://localhost:8080/"
        },
        "id": "0VUqRYl01-ax",
        "outputId": "6761a52e-98b3-40e8-c0b4-64800d3ea902"
      },
      "execution_count": null,
      "outputs": [
        {
          "output_type": "stream",
          "name": "stdout",
          "text": [
            "True\n"
          ]
        }
      ]
    },
    {
      "cell_type": "markdown",
      "source": [
        "## strip()\n",
        " Removes leading and trailing whitespace (or specified characters) from the string."
      ],
      "metadata": {
        "id": "dEOyvegD1vQm"
      }
    },
    {
      "cell_type": "code",
      "source": [
        "# Strip leading and trailing spaces from the string\n",
        "text = \"   hello world   \"\n",
        "print(text.strip())\n"
      ],
      "metadata": {
        "colab": {
          "base_uri": "https://localhost:8080/"
        },
        "id": "kpqo5h-K2H1T",
        "outputId": "c8aaf041-a12e-48c4-c93f-0f99aa75640e"
      },
      "execution_count": null,
      "outputs": [
        {
          "output_type": "stream",
          "name": "stdout",
          "text": [
            "hello world\n"
          ]
        }
      ]
    },
    {
      "cell_type": "markdown",
      "source": [
        "## swapcase()\n",
        " Swaps the case of all characters in the string."
      ],
      "metadata": {
        "id": "KLdERCbo1vV3"
      }
    },
    {
      "cell_type": "code",
      "source": [
        "# Swap the case of all characters\n",
        "text = \"Hello World\"\n",
        "print(text.swapcase())\n"
      ],
      "metadata": {
        "colab": {
          "base_uri": "https://localhost:8080/"
        },
        "id": "ougQRy1k2Pwj",
        "outputId": "47d6d618-8730-48f8-dc81-b792c71f8b27"
      },
      "execution_count": null,
      "outputs": [
        {
          "output_type": "stream",
          "name": "stdout",
          "text": [
            "hELLO wORLD\n"
          ]
        }
      ]
    },
    {
      "cell_type": "markdown",
      "source": [
        "## title()\n",
        " Converts the string to title case, where each word starts with an uppercase letter."
      ],
      "metadata": {
        "id": "yIBM0V0l1vbe"
      }
    },
    {
      "cell_type": "code",
      "source": [
        "# Convert the string to title case\n",
        "text = \"hello world example\"\n",
        "print(text.title())\n"
      ],
      "metadata": {
        "colab": {
          "base_uri": "https://localhost:8080/"
        },
        "id": "wdyA3DmE2X2U",
        "outputId": "df3d51fa-b766-4a6a-9c6e-203af528ec21"
      },
      "execution_count": null,
      "outputs": [
        {
          "output_type": "stream",
          "name": "stdout",
          "text": [
            "Hello World Example\n"
          ]
        }
      ]
    },
    {
      "cell_type": "markdown",
      "source": [
        "## translate()\n",
        " Translates the string using a translation table created with maketrans()."
      ],
      "metadata": {
        "id": "vau3b39Y1vhK"
      }
    },
    {
      "cell_type": "code",
      "source": [
        "# Create a translation table to replace 'a' with '1' and 'b' with '2'\n",
        "trans = str.maketrans('ab', '12')\n",
        "text = \"abc\"\n",
        "print(text.translate(trans))\n"
      ],
      "metadata": {
        "colab": {
          "base_uri": "https://localhost:8080/"
        },
        "id": "tb5Lwmlx4C-S",
        "outputId": "f9500dfb-d441-4723-ff14-1d9afea2f580"
      },
      "execution_count": null,
      "outputs": [
        {
          "output_type": "stream",
          "name": "stdout",
          "text": [
            "12c\n"
          ]
        }
      ]
    },
    {
      "cell_type": "markdown",
      "source": [
        "## upper()\n",
        " Converts all characters in the string to uppercase."
      ],
      "metadata": {
        "id": "Mhw8HQNs1vlU"
      }
    },
    {
      "cell_type": "code",
      "source": [
        "# Convert the string to uppercase\n",
        "text = \"hello\"\n",
        "print(text.upper())\n"
      ],
      "metadata": {
        "colab": {
          "base_uri": "https://localhost:8080/"
        },
        "id": "XnkvBV1M4K47",
        "outputId": "044f2ed0-b180-419b-ce22-57827b032f1a"
      },
      "execution_count": null,
      "outputs": [
        {
          "output_type": "stream",
          "name": "stdout",
          "text": [
            "HELLO\n"
          ]
        }
      ]
    },
    {
      "cell_type": "markdown",
      "source": [
        "## zfill()\n",
        " Pads the string with zeros on the left, up to the specified width."
      ],
      "metadata": {
        "id": "MrCfQOyz4Q4P"
      }
    },
    {
      "cell_type": "code",
      "source": [
        "# Pad the string with zeros on the left to a width of 10\n",
        "text = \"42\"\n",
        "print(text.zfill(10))\n"
      ],
      "metadata": {
        "colab": {
          "base_uri": "https://localhost:8080/"
        },
        "id": "mPawnrR94VL5",
        "outputId": "00a01fdb-8c7e-4897-c971-ded40e484139"
      },
      "execution_count": null,
      "outputs": [
        {
          "output_type": "stream",
          "name": "stdout",
          "text": [
            "0000000042\n"
          ]
        }
      ]
    },
    {
      "cell_type": "markdown",
      "source": [
        "# Assignment"
      ],
      "metadata": {
        "id": "zD_Y-53P6vAa"
      }
    },
    {
      "cell_type": "code",
      "source": [
        "name = \"beach tree\"\n",
        "letter = 'e'\n",
        "indexes = []\n",
        "start = 0\n",
        "\n",
        "while True:\n",
        "    index = name.find(letter, start)\n",
        "    if index == -1:  # Jab aur koi match na mile to loop se bahar nikal jao\n",
        "        break\n",
        "    indexes.append(index)\n",
        "    start = index + 1  # Search ko next character se shuru karo\n",
        "\n",
        "print(indexes)\n",
        "\n"
      ],
      "metadata": {
        "colab": {
          "base_uri": "https://localhost:8080/"
        },
        "id": "VnOnBV0y6Ord",
        "outputId": "ab42d5dc-64e6-4ab4-d306-87d9681233d6"
      },
      "execution_count": null,
      "outputs": [
        {
          "output_type": "stream",
          "name": "stdout",
          "text": [
            "[1, 8, 9]\n"
          ]
        }
      ]
    }
  ]
}